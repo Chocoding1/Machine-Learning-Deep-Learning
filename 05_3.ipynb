{
  "nbformat": 4,
  "nbformat_minor": 0,
  "metadata": {
    "colab": {
      "provenance": [],
      "authorship_tag": "ABX9TyM1z2ETcvwVShpZeIUZ+Lx/",
      "include_colab_link": true
    },
    "kernelspec": {
      "name": "python3",
      "display_name": "Python 3"
    },
    "language_info": {
      "name": "python"
    }
  },
  "cells": [
    {
      "cell_type": "markdown",
      "metadata": {
        "id": "view-in-github",
        "colab_type": "text"
      },
      "source": [
        "<a href=\"https://colab.research.google.com/github/Chocoding1/Machine_Learning_Deep_Learning/blob/main/05_3.ipynb\" target=\"_parent\"><img src=\"https://colab.research.google.com/assets/colab-badge.svg\" alt=\"Open In Colab\"/></a>"
      ]
    },
    {
      "cell_type": "markdown",
      "source": [
        "# **트리의 앙상블**"
      ],
      "metadata": {
        "id": "Y6q94XzwHs9y"
      }
    },
    {
      "cell_type": "markdown",
      "source": [
        "## 정형 데이터와 비정형 데이터\n",
        "\n",
        "- 정형 데이터 : csv나 데이터베이스, 엑셀 등과 같이 어떤 구조로 되어 있는 데이터\n",
        "- 비정형 데이터 : 텍스트, 사진, 음악 등과 같이 어떤 구조가 없는 데이터 / 데이터베이스나 엑셀로 표현하기 어려움<br>\n",
        "\n",
        "**앙상블 학습** : 정형 데이터를 다루는 데 가장 뛰어난 성과를 내는 알고리즘 / 대부분 결정 트리를 기반으로 만들어져 있다.<br>\n",
        "note) 비정형 데이터를 다루는 데 사용되는 알고리즘은 신경망 알고리즘이다."
      ],
      "metadata": {
        "id": "WDZEibmGH-Hl"
      }
    },
    {
      "cell_type": "code",
      "execution_count": null,
      "metadata": {
        "id": "xhluBvZIFiqg"
      },
      "outputs": [],
      "source": []
    }
  ]
}