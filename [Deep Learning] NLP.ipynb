{
  "nbformat": 4,
  "nbformat_minor": 0,
  "metadata": {
    "colab": {
      "provenance": [],
      "authorship_tag": "ABX9TyOAMl7xBRt7uZe5hXcz8LlL",
      "include_colab_link": true
    },
    "kernelspec": {
      "name": "python3",
      "display_name": "Python 3"
    },
    "language_info": {
      "name": "python"
    }
  },
  "cells": [
    {
      "cell_type": "markdown",
      "metadata": {
        "id": "view-in-github",
        "colab_type": "text"
      },
      "source": [
        "<a href=\"https://colab.research.google.com/github/Chocoding1/Machine_Learning_Deep_Learning/blob/main/%5BDeep%20Learning%5D%20NLP.ipynb\" target=\"_parent\"><img src=\"https://colab.research.google.com/assets/colab-badge.svg\" alt=\"Open In Colab\"/></a>"
      ]
    },
    {
      "cell_type": "markdown",
      "source": [
        "# 딥러닝을 이용한 자연어 처리"
      ],
      "metadata": {
        "id": "hwanSzNGEg8y"
      }
    },
    {
      "cell_type": "markdown",
      "source": [
        "## 텍스트의 토큰화\n",
        "\n",
        "컴퓨터의 알고리즘은 수치로 된 데이터만 이해(텍스트 이해 x) -> 텍스트 전처리 필요<br>\n",
        "\n",
        "토큰화(tokenization) : 입력된 텍스트를 잘게 나누는 과정"
      ],
      "metadata": {
        "id": "99EptaufEj78"
      }
    },
    {
      "cell_type": "code",
      "execution_count": 1,
      "metadata": {
        "colab": {
          "base_uri": "https://localhost:8080/"
        },
        "id": "rMKngDzfC3-7",
        "outputId": "8f92f4a4-d6f1-41a7-ec79-58c2b8e97b25"
      },
      "outputs": [
        {
          "output_type": "stream",
          "name": "stdout",
          "text": [
            "원문 :\n",
            "내 꿈은 인공지능 전문가이다.\n",
            "토큰화 :\n",
            "['내', '꿈은', '인공지능', '전문가이다']\n"
          ]
        }
      ],
      "source": [
        "# text_to_word_sequence() : 문장을 단어로 쉽게 나눠주는 keras가 제공하는 text 모듈의 함수\n",
        "from tensorflow.keras.preprocessing.text import text_to_word_sequence\n",
        "\n",
        "text = '내 꿈은 인공지능 전문가이다.'\n",
        "\n",
        "result = text_to_word_sequence(text)\n",
        "print(f'원문 :\\n{text}')\n",
        "print(f'토큰화 :\\n{result}')"
      ]
    },
    {
      "cell_type": "markdown",
      "source": [
        "텍스트를 단어 단위로 쪼개면 단어의 빈도수에 따라 텍스트에서 중요한 역할을 하는 단어를 파악할 수 있다.<br>\n",
        "따라서 텍스트를 단어 단위로 쪼개는 것이 가장 많이 쓰이는 텍스트 전처리 과정이며,<br>\n",
        "Bag-of-Words는 이러한 전처리를 일컫는 말로, 단어 단위로 쪼개어 같은 단어들이 몇 개씩 있는지 세는 기법이다."
      ],
      "metadata": {
        "id": "w2gX25EMF1C6"
      }
    },
    {
      "cell_type": "code",
      "source": [
        "# Tokenizer() : 단어의 빈도수 계산\n",
        "from tensorflow.keras.preprocessing.text import Tokenizer\n",
        "\n",
        "docs = ['먼저 텍스트의 각 단어를 나누어 토큰화합니다.',\n",
        "        '텍스트의 단어로 토큰화해야 딥러닝에서 인식됩니다.',\n",
        "        '토큰화한 결과는 딥러닝에서 사용할 수 있습니다.']\n",
        "\n",
        "token = Tokenizer() # 토큰화 함수 선언\n",
        "token.fit_on_texts(docs) # 토큰화 함수에 문장 적용\n",
        "\n",
        "print(f'단어 카운트 :\\n{token.word_counts}') # word_counts가 단어의 빈도수 계산"
      ],
      "metadata": {
        "colab": {
          "base_uri": "https://localhost:8080/"
        },
        "id": "AaJHswCkF0sB",
        "outputId": "755c929e-c9d7-4fc7-9dc8-2e162f71dccf"
      },
      "execution_count": 2,
      "outputs": [
        {
          "output_type": "stream",
          "name": "stdout",
          "text": [
            "단어 카운트 :\n",
            "OrderedDict([('먼저', 1), ('텍스트의', 2), ('각', 1), ('단어를', 1), ('나누어', 1), ('토큰화합니다', 1), ('단어로', 1), ('토큰화해야', 1), ('딥러닝에서', 2), ('인식됩니다', 1), ('토큰화한', 1), ('결과는', 1), ('사용할', 1), ('수', 1), ('있습니다', 1)])\n"
          ]
        }
      ]
    },
    {
      "cell_type": "markdown",
      "source": [
        "-> 순서를 기억하는 OrderedDict 클래스에 담겨 있는 형태로 출력"
      ],
      "metadata": {
        "id": "AA2o5RnAHJ6j"
      }
    },
    {
      "cell_type": "code",
      "source": [
        "# document_count() : 총 몇 개의 문장이 들어 있는지 세는 함수\n",
        "print(f'문장 수 : {token.document_count}')"
      ],
      "metadata": {
        "colab": {
          "base_uri": "https://localhost:8080/"
        },
        "id": "YN5uuHWGFkLV",
        "outputId": "92c23c9f-ee09-42e2-c26f-606aff09db05"
      },
      "execution_count": 3,
      "outputs": [
        {
          "output_type": "stream",
          "name": "stdout",
          "text": [
            "문장 수 : 3\n"
          ]
        }
      ]
    },
    {
      "cell_type": "code",
      "source": [
        "# word_docs() : 각 단어들이 몇 개의 문장에 나오는지 세는 함수\n",
        "print(f'각 단어가 몇 개의 문장에 포함되어 있는지 :\\n{token.word_docs}')"
      ],
      "metadata": {
        "colab": {
          "base_uri": "https://localhost:8080/"
        },
        "id": "62YXkT7UHZHv",
        "outputId": "7baa7ad4-343b-4589-8d3c-c853ea775eb5"
      },
      "execution_count": 4,
      "outputs": [
        {
          "output_type": "stream",
          "name": "stdout",
          "text": [
            "각 단어가 몇 개의 문장에 포함되어 있는지 :\n",
            "defaultdict(<class 'int'>, {'텍스트의': 2, '단어를': 1, '각': 1, '토큰화합니다': 1, '먼저': 1, '나누어': 1, '토큰화해야': 1, '인식됩니다': 1, '단어로': 1, '딥러닝에서': 2, '사용할': 1, '수': 1, '토큰화한': 1, '있습니다': 1, '결과는': 1})\n"
          ]
        }
      ]
    },
    {
      "cell_type": "code",
      "source": [
        "# word_index() : 각 단어에 매겨진 인덱스 값 출력(인덱스 값은 단어 임베딩에 사용)\n",
        "print(f'각 단어에 매겨진 인덱스 값 :\\n{token.word_index}')"
      ],
      "metadata": {
        "colab": {
          "base_uri": "https://localhost:8080/"
        },
        "id": "XE4CWHC4HmpK",
        "outputId": "efb39f8c-2a0f-480f-c5b8-9604755e9099"
      },
      "execution_count": 6,
      "outputs": [
        {
          "output_type": "stream",
          "name": "stdout",
          "text": [
            "각 단어에 매겨진 인덱스 값 :\n",
            "{'텍스트의': 1, '딥러닝에서': 2, '먼저': 3, '각': 4, '단어를': 5, '나누어': 6, '토큰화합니다': 7, '단어로': 8, '토큰화해야': 9, '인식됩니다': 10, '토큰화한': 11, '결과는': 12, '사용할': 13, '수': 14, '있습니다': 15}\n"
          ]
        }
      ]
    },
    {
      "cell_type": "markdown",
      "source": [
        "## 단어의 원-핫 인코딩\n",
        "\n",
        "단순히 단어의 출현 빈도만 가지고는 해당 단어가 문장의 어디에서 왔는지, 각 단어의 순서는 어떠했는지 등에 관한 정보 얻을 수 x\n",
        "\n",
        "단어가 문장의 다른 요소와 어떤 관계를 가지고 있는지 알아보는 방법 필요 -> 원-핫 인코딩"
      ],
      "metadata": {
        "id": "F1vyaXiSH8Ag"
      }
    },
    {
      "cell_type": "code",
      "source": [
        "text = '오랫동안 꿈꾸는 이는 그 꿈을 닮아간다'\n",
        "\n",
        "token = Tokenizer()\n",
        "token.fit_on_texts([text]) # 텍스트 토큰화\n",
        "print(token.word_index) # 각 단어의 인덱스 값 출력"
      ],
      "metadata": {
        "colab": {
          "base_uri": "https://localhost:8080/"
        },
        "id": "aUN8_9kWH3ka",
        "outputId": "756984c5-d322-4bc4-e069-2d4a5368f70e"
      },
      "execution_count": 11,
      "outputs": [
        {
          "output_type": "stream",
          "name": "stdout",
          "text": [
            "{'오랫동안': 1, '꿈꾸는': 2, '이는': 3, '그': 4, '꿈을': 5, '닮아간다': 6}\n"
          ]
        }
      ]
    },
    {
      "cell_type": "code",
      "source": [
        "# 각 단어를 원-핫 인코딩 방식으로 표현\n",
        "# 1. keras의 Tokenizer의 texts_to_sequences() : 토큰의 인덱스로만 채워진 새로운 배열 생성\n",
        "x = token.texts_to_sequences([text])\n",
        "print(x)"
      ],
      "metadata": {
        "colab": {
          "base_uri": "https://localhost:8080/"
        },
        "id": "DJqz8sirJEQP",
        "outputId": "18bb8959-b65a-4b42-d15f-582be04eea71"
      },
      "execution_count": 19,
      "outputs": [
        {
          "output_type": "stream",
          "name": "stdout",
          "text": [
            "[[1, 2, 3, 4, 5, 6]]\n"
          ]
        }
      ]
    },
    {
      "cell_type": "code",
      "source": [
        "# 2. to_categorical() : 1~6의 정수로 인덱스되어 있는 것을 0과 1로만 이루어진 배열로 변경\n",
        "from tensorflow.keras.utils import to_categorical\n",
        "\n",
        "word_size = len(token.word_index) + 1 # 1부터\n",
        "x = to_categorical(x, num_classes=word_size)\n",
        "\n",
        "print(x)"
      ],
      "metadata": {
        "colab": {
          "base_uri": "https://localhost:8080/"
        },
        "id": "-iH5r4hLJrqP",
        "outputId": "425bb129-e8a0-4c55-eb7d-8e9ac4246fff"
      },
      "execution_count": 21,
      "outputs": [
        {
          "output_type": "stream",
          "name": "stdout",
          "text": [
            "[[[0. 1. 0. 0. 0. 0. 0.]\n",
            "  [0. 0. 1. 0. 0. 0. 0.]\n",
            "  [0. 0. 0. 1. 0. 0. 0.]\n",
            "  [0. 0. 0. 0. 1. 0. 0.]\n",
            "  [0. 0. 0. 0. 0. 1. 0.]\n",
            "  [0. 0. 0. 0. 0. 0. 1.]]]\n"
          ]
        }
      ]
    },
    {
      "cell_type": "markdown",
      "source": [
        "## 단어 임베딩(word embedding)\n",
        "\n",
        "원-핫 인코딩 그대로 사용시 벡터의 길이가 너무 길어진다는 단점\n",
        "\n",
        "ex) 1만 개의 단어 토큰으로 이루어진 말뭉치 -> 9,999개의 0과 1개의 1로 이루어진 단어 벡터 1만개 생성\n",
        "\n",
        "=> 단어 임베딩 등장(공간적 낭비 해결)\n",
        "\n",
        "단어 임베딩 : 주어진 배열을 정해진 길이로 압축"
      ],
      "metadata": {
        "id": "9V5TIIbqLEIX"
      }
    },
    {
      "cell_type": "markdown",
      "source": [
        "단어 임베딩으로 얻은 결과가 밀집된 정보를 가지고 있고 공간의 낭비가 적다\n",
        "\n",
        "이러한 결과가 가능한 이유는 각 단어 간의 유사도를 계산했기 때문<br>\n",
        "ex) happy는 bad보다 good에 더 가깝고, cat은 good보다 dog에 더 가깝다\n",
        "\n",
        "이 단어 간 유사도는 keras의 Embedding() 함수를 사용하면 된다."
      ],
      "metadata": {
        "id": "wukSMhXGL3Jl"
      }
    },
    {
      "cell_type": "code",
      "source": [
        "from tensorflow.keras.layers import Embedding\n",
        "from tensorflow.keras.models import Sequential\n",
        "\n",
        "model = Sequential()\n",
        "model.add(Embedding(16,4)) # Embedding(입력될 총 단어 수, 임베딩 후 출력되는 벡터 크기)\n",
        "# Embedding(16, 3, input_length=2) : 총 입력되는 단어 수는 16개이지만 매번 두 개씩만 넣겠다는 의미"
      ],
      "metadata": {
        "id": "-CCBp3wJKmzi"
      },
      "execution_count": null,
      "outputs": []
    },
    {
      "cell_type": "markdown",
      "source": [
        "## 텍스트를 읽고 긍정, 부정 예측하기"
      ],
      "metadata": {
        "id": "zsV0z4OuMupR"
      }
    },
    {
      "cell_type": "code",
      "source": [
        "# 짧은 리뷰 10개 불러와 긍정이면 1, 부정이면 0이라는 클래스로 지정\n",
        "docs = ['너무 재밌네요', '최고에요', '참 잘 만든 영화에요', '추천하고 싶은 영화입니다.', '한 번 더 보고싶네요', '글쎄요',\n",
        "        '별로에요', '생각보다 지루하네요', '연기가 어색해요', '재미없어요']\n",
        "\n",
        "classes = [1,1,1,1,1,0,0,0,0,0]"
      ],
      "metadata": {
        "id": "93jxX5gNMuKJ"
      },
      "execution_count": 25,
      "outputs": []
    },
    {
      "cell_type": "code",
      "source": [
        "# 앞서 배운 토큰화 진행\n",
        "token = Tokenizer()\n",
        "token.fit_on_texts(docs)\n",
        "print(token.word_index)"
      ],
      "metadata": {
        "colab": {
          "base_uri": "https://localhost:8080/"
        },
        "id": "NEvmZ1v0NNdP",
        "outputId": "d5fdb98e-6896-4651-a19b-9f6493f040fd"
      },
      "execution_count": 26,
      "outputs": [
        {
          "output_type": "stream",
          "name": "stdout",
          "text": [
            "{'너무': 1, '재밌네요': 2, '최고에요': 3, '참': 4, '잘': 5, '만든': 6, '영화에요': 7, '추천하고': 8, '싶은': 9, '영화입니다': 10, '한': 11, '번': 12, '더': 13, '보고싶네요': 14, '글쎄요': 15, '별로에요': 16, '생각보다': 17, '지루하네요': 18, '연기가': 19, '어색해요': 20, '재미없어요': 21}\n"
          ]
        }
      ]
    },
    {
      "cell_type": "code",
      "source": [
        "# 토큰에 지정된 인덱스로 새로운 배열 생성\n",
        "x = token.texts_to_sequences(docs)\n",
        "print(f'리뷰 텍스트 토큰화 결과 :\\n{x}')"
      ],
      "metadata": {
        "colab": {
          "base_uri": "https://localhost:8080/"
        },
        "id": "qSeaTk0UNvZU",
        "outputId": "b930b0db-d894-4078-db35-7dc2f9232f54"
      },
      "execution_count": 27,
      "outputs": [
        {
          "output_type": "stream",
          "name": "stdout",
          "text": [
            "리뷰 텍스트 토큰화 결과 :\n",
            "[[1, 2], [3], [4, 5, 6, 7], [8, 9, 10], [11, 12, 13, 14], [15], [16], [17, 18], [19, 20], [21]]\n"
          ]
        }
      ]
    },
    {
      "cell_type": "markdown",
      "source": [
        "각 리뷰 데이터의 토큰 수가 다르다(딥러닝 모델에 입력하려면 학습 데이터의 길이가 동일해야 함)<br>\n",
        "-> 토큰의 수를 똑같이 맞춰줘야 한다. -> 패딩(padding)"
      ],
      "metadata": {
        "id": "UypzudKzOUos"
      }
    },
    {
      "cell_type": "code",
      "source": [
        "# pad_sequence() : 패딩 작업을 하는 keras의 함수(원하는 길이보다 짧은 부분은 숫자 0, 긴 데이터는 잘라서 같은 길이로 맞춤)\n",
        "from tensorflow.keras.preprocessing.sequence import pad_sequences\n",
        "\n",
        "padded_x = pad_sequences(x, 4)\n",
        "print(f'패딩 결과 :\\n{padded_x}')"
      ],
      "metadata": {
        "colab": {
          "base_uri": "https://localhost:8080/"
        },
        "id": "nNMCezPfOKO2",
        "outputId": "4201fbb2-efef-4dcb-8395-373ace5e3f66"
      },
      "execution_count": 32,
      "outputs": [
        {
          "output_type": "stream",
          "name": "stdout",
          "text": [
            "패딩 결과 :\n",
            "[[ 0  0  1  2]\n",
            " [ 0  0  0  3]\n",
            " [ 4  5  6  7]\n",
            " [ 0  8  9 10]\n",
            " [11 12 13 14]\n",
            " [ 0  0  0 15]\n",
            " [ 0  0  0 16]\n",
            " [ 0  0 17 18]\n",
            " [ 0  0 19 20]\n",
            " [ 0  0  0 21]]\n"
          ]
        }
      ]
    },
    {
      "cell_type": "code",
      "source": [
        "# 단어 임베딩을 포함해 딥러닝 모델 만들고 결과 출력\n",
        "# Embedding() 함수에 필요한 파라미터는 세 개(입력, 출력, 단어 수)\n",
        "# 총 몇 개의 단어 집합에서(입력) 몇 개의 임베딩 결과를 사용할 것인지(출력), 매번 입력될 단어 수는 몇 개로 할지(단어 수)\n",
        "\n",
        "# 1. 입력될 단어 수 지정\n",
        "word_size = len(token.word_index) + 1 # 전체 단어의 맨 앞에 0이 먼저 나와야 하므로 총 단어 수에 +1\n",
        "\n",
        "# 2. 출력될 임베딩 결과 수 지정 + 매번 입력될 단어 수 지정\n",
        "Embedding(word_size, 8, input_length=4) # 임베딩 결과는 우리 눈에 안 보인다. 내부에서 계산해 딥러닝의 층으로 활용된다."
      ],
      "metadata": {
        "id": "1WViUL29PAvk"
      },
      "execution_count": null,
      "outputs": []
    },
    {
      "cell_type": "code",
      "source": [
        "# 이를 이용한 모델 설정\n",
        "from tensorflow.keras.layers import Dense\n",
        "\n",
        "model = Sequential()\n",
        "model.add(Embedding(word_size, 8, input_length=4))\n",
        "model.add(Flatten())\n",
        "model.add(Dense(1, activation='sigmoid'))\n",
        "\n",
        "model.compile(optimizer='adam', loss='binary_crossentropy', metrics=['accuracy'])\n",
        "model.fit(padded_x, classes, epochs=20)"
      ],
      "metadata": {
        "id": "rV-l7wUsQiRk"
      },
      "execution_count": null,
      "outputs": []
    },
    {
      "cell_type": "code",
      "source": [
        "# 전체 코드\n",
        "from tensorflow.keras.preprocessing.text import Tokenizer\n",
        "from tensorflow.keras.preprocessing.sequence import pad_sequences\n",
        "from tensorflow.keras.models import Sequential\n",
        "from tensorflow.keras.layers import Dense, Flatten, Embedding\n",
        "from tensorflow.keras.utils import to_categorical\n",
        "\n",
        "from numpy import array\n",
        "\n",
        "docs = ['너무 재밌네요', '최고에요', '참 잘 만든 영화에요', '추천하고 싶은 영화입니다.', '한 번 더 보고싶네요', '글쎄요',\n",
        "        '별로에요', '생각보다 지루하네요', '연기가 어색해요', '재미없어요']\n",
        "\n",
        "classes = array([1,1,1,1,1,0,0,0,0,0])\n",
        "\n",
        "token = Tokenizer()\n",
        "token.fit_on_texts(docs)\n",
        "print(token.word_index)\n",
        "\n",
        "x = token.texts_to_sequences(docs)\n",
        "print(f'리뷰 테스트, 토큰화 결과 :\\n{x}')\n",
        "\n",
        "padded_x = pad_sequences(x, 4)\n",
        "print(f'패딩 결과 :\\n{padded_x}')\n",
        "\n",
        "word_size = len(token.word_index) + 1\n",
        "\n",
        "model = Sequential()\n",
        "model.add(Embedding(word_size, 8, input_length=4))\n",
        "model.add(Flatten())\n",
        "model.add(Dense(1, activation='sigmoid'))\n",
        "model.summary()\n",
        "\n",
        "model.compile(optimizer='adam', loss='binary_crossentropy', metrics=['accuracy'])\n",
        "model.fit(padded_x, classes, epochs=20)\n",
        "print(f'Accuracy : {model.evaluate(padded_x, classes)[1]}')"
      ],
      "metadata": {
        "colab": {
          "base_uri": "https://localhost:8080/"
        },
        "id": "I_AdLb70R2ke",
        "outputId": "a64caad1-1f43-448e-cd3a-a7ab7336946f"
      },
      "execution_count": 35,
      "outputs": [
        {
          "output_type": "stream",
          "name": "stdout",
          "text": [
            "{'너무': 1, '재밌네요': 2, '최고에요': 3, '참': 4, '잘': 5, '만든': 6, '영화에요': 7, '추천하고': 8, '싶은': 9, '영화입니다': 10, '한': 11, '번': 12, '더': 13, '보고싶네요': 14, '글쎄요': 15, '별로에요': 16, '생각보다': 17, '지루하네요': 18, '연기가': 19, '어색해요': 20, '재미없어요': 21}\n",
            "리뷰 테스트, 토큰화 결과 :\n",
            "[[1, 2], [3], [4, 5, 6, 7], [8, 9, 10], [11, 12, 13, 14], [15], [16], [17, 18], [19, 20], [21]]\n",
            "패딩 결과 :\n",
            "[[ 0  0  1  2]\n",
            " [ 0  0  0  3]\n",
            " [ 4  5  6  7]\n",
            " [ 0  8  9 10]\n",
            " [11 12 13 14]\n",
            " [ 0  0  0 15]\n",
            " [ 0  0  0 16]\n",
            " [ 0  0 17 18]\n",
            " [ 0  0 19 20]\n",
            " [ 0  0  0 21]]\n",
            "Model: \"sequential_1\"\n",
            "_________________________________________________________________\n",
            " Layer (type)                Output Shape              Param #   \n",
            "=================================================================\n",
            " embedding_1 (Embedding)     (None, 4, 8)              176       \n",
            "                                                                 \n",
            " flatten_1 (Flatten)         (None, 32)                0         \n",
            "                                                                 \n",
            " dense_1 (Dense)             (None, 1)                 33        \n",
            "                                                                 \n",
            "=================================================================\n",
            "Total params: 209 (836.00 Byte)\n",
            "Trainable params: 209 (836.00 Byte)\n",
            "Non-trainable params: 0 (0.00 Byte)\n",
            "_________________________________________________________________\n",
            "Epoch 1/20\n",
            "1/1 [==============================] - 1s 686ms/step - loss: 0.7008 - accuracy: 0.4000\n",
            "Epoch 2/20\n",
            "1/1 [==============================] - 0s 13ms/step - loss: 0.6988 - accuracy: 0.4000\n",
            "Epoch 3/20\n",
            "1/1 [==============================] - 0s 9ms/step - loss: 0.6968 - accuracy: 0.4000\n",
            "Epoch 4/20\n",
            "1/1 [==============================] - 0s 8ms/step - loss: 0.6948 - accuracy: 0.4000\n",
            "Epoch 5/20\n",
            "1/1 [==============================] - 0s 9ms/step - loss: 0.6929 - accuracy: 0.4000\n",
            "Epoch 6/20\n",
            "1/1 [==============================] - 0s 10ms/step - loss: 0.6910 - accuracy: 0.4000\n",
            "Epoch 7/20\n",
            "1/1 [==============================] - 0s 8ms/step - loss: 0.6890 - accuracy: 0.5000\n",
            "Epoch 8/20\n",
            "1/1 [==============================] - 0s 9ms/step - loss: 0.6871 - accuracy: 0.6000\n",
            "Epoch 9/20\n",
            "1/1 [==============================] - 0s 8ms/step - loss: 0.6852 - accuracy: 0.7000\n",
            "Epoch 10/20\n",
            "1/1 [==============================] - 0s 8ms/step - loss: 0.6833 - accuracy: 0.8000\n",
            "Epoch 11/20\n",
            "1/1 [==============================] - 0s 8ms/step - loss: 0.6813 - accuracy: 0.8000\n",
            "Epoch 12/20\n",
            "1/1 [==============================] - 0s 8ms/step - loss: 0.6794 - accuracy: 0.8000\n",
            "Epoch 13/20\n",
            "1/1 [==============================] - 0s 7ms/step - loss: 0.6775 - accuracy: 0.8000\n",
            "Epoch 14/20\n",
            "1/1 [==============================] - 0s 8ms/step - loss: 0.6756 - accuracy: 0.9000\n",
            "Epoch 15/20\n",
            "1/1 [==============================] - 0s 8ms/step - loss: 0.6737 - accuracy: 1.0000\n",
            "Epoch 16/20\n",
            "1/1 [==============================] - 0s 8ms/step - loss: 0.6717 - accuracy: 1.0000\n",
            "Epoch 17/20\n",
            "1/1 [==============================] - 0s 8ms/step - loss: 0.6698 - accuracy: 0.9000\n",
            "Epoch 18/20\n",
            "1/1 [==============================] - 0s 8ms/step - loss: 0.6679 - accuracy: 0.9000\n",
            "Epoch 19/20\n",
            "1/1 [==============================] - 0s 8ms/step - loss: 0.6659 - accuracy: 0.9000\n",
            "Epoch 20/20\n",
            "1/1 [==============================] - 0s 8ms/step - loss: 0.6640 - accuracy: 0.9000\n",
            "1/1 [==============================] - 0s 155ms/step - loss: 0.6620 - accuracy: 0.9000\n",
            "Accuracy : 0.8999999761581421\n"
          ]
        }
      ]
    },
    {
      "cell_type": "code",
      "source": [],
      "metadata": {
        "id": "brNuxtqkUUDS"
      },
      "execution_count": null,
      "outputs": []
    }
  ]
}