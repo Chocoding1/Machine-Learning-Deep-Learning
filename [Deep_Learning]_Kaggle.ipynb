{
  "nbformat": 4,
  "nbformat_minor": 0,
  "metadata": {
    "colab": {
      "provenance": [],
      "authorship_tag": "ABX9TyObx+GQEhXeViV0Aeu4lL1u",
      "include_colab_link": true
    },
    "kernelspec": {
      "name": "python3",
      "display_name": "Python 3"
    },
    "language_info": {
      "name": "python"
    }
  },
  "cells": [
    {
      "cell_type": "markdown",
      "metadata": {
        "id": "view-in-github",
        "colab_type": "text"
      },
      "source": [
        "<a href=\"https://colab.research.google.com/github/Chocoding1/Machine_Learning_Deep_Learning/blob/main/%5BDeep_Learning%5D_Kaggle.ipynb\" target=\"_parent\"><img src=\"https://colab.research.google.com/assets/colab-badge.svg\" alt=\"Open In Colab\"/></a>"
      ]
    },
    {
      "cell_type": "markdown",
      "source": [
        "# Kaggle 도전\n",
        "\n",
        "House Prices - Advanced Regression Techniques"
      ],
      "metadata": {
        "id": "HVDHZSVmqF5D"
      }
    },
    {
      "cell_type": "code",
      "execution_count": null,
      "metadata": {
        "colab": {
          "base_uri": "https://localhost:8080/"
        },
        "id": "YHFJ-FgJndmh",
        "outputId": "96e02dfa-4f88-48f9-fc97-9ffa79be2446"
      },
      "outputs": [
        {
          "output_type": "stream",
          "name": "stdout",
          "text": [
            "Cloning into 'data'...\n",
            "remote: Enumerating objects: 21, done.\u001b[K\n",
            "remote: Counting objects: 100% (21/21), done.\u001b[K\n",
            "remote: Compressing objects: 100% (18/18), done.\u001b[K\n",
            "remote: Total 21 (delta 3), reused 20 (delta 2), pack-reused 0\u001b[K\n",
            "Receiving objects: 100% (21/21), 460.95 KiB | 4.35 MiB/s, done.\n",
            "Resolving deltas: 100% (3/3), done.\n"
          ]
        }
      ],
      "source": [
        "from tensorflow.keras.models import load_model\n",
        "\n",
        "import pandas as pd\n",
        "import time\n",
        "\n",
        "!git clone https://github.com/taehojo/data.git"
      ]
    },
    {
      "cell_type": "code",
      "source": [
        "# kaggle에서 내려받은 테스트셋 load\n",
        "kaggle_test = pd.read_csv('./data/house_test.csv')\n",
        "\n",
        "# 카테고리형 변수를 0과 1로 이루어진 변수로 변환(원-핫 인코딩)\n",
        "kaggle_test = pd.get_dummies(kaggle_test)\n",
        "\n",
        "# 결측치를 전체 칼럼의 평균으로 대체\n",
        "kaggle_test = kaggle_test.fillna(kaggle_test.mean())\n",
        "\n",
        "# 집 값을 제외한 나머지 열 저장(15장에서 선정한 훈련세트의 피처와 동일하게)\n",
        "cols_kaggle = ['OverallQual', 'GrLivArea', 'GarageCars', 'GarageArea', 'TotalBsmtSF']\n",
        "K_test = kaggle_test[cols_kaggle]\n",
        "\n",
        "# 15장에서 만든 모델 load\n",
        "model = load_model('./data/model/Ch15-house.hdf5')\n",
        "\n",
        "# ID와 예측 값이 들어갈 빈 리스트 생성\n",
        "ids = []\n",
        "\n",
        "# 불러온 모델에 K_test를 적용하고 예측 값 계산\n",
        "Y_prediction = model.predict(K_test).flatten()\n",
        "for i in range(len(K_test)):\n",
        "  id = kaggle_test['Id'][i]\n",
        "  prediction = Y_prediction[i]\n",
        "  ids.append([id, prediction])\n",
        "\n",
        "# 테스트 결과의 저장 환경 설정\n",
        "timestr = time.strftime('%Y%m%d-%H%M%S')\n",
        "filename = str(timestr) # 파일명을 연월일-시분초로 설정\n",
        "outdir = './' # 파일 저장 위치 설정\n",
        "\n",
        "# Id와 집 값을 csv 파일로 저장\n",
        "df = pd.DataFrame(ids, columns=['Id', 'SalePrice'])\n",
        "df.to_csv(str(outdir + filename + '_submission.csv'), index=False)\n"
      ],
      "metadata": {
        "id": "ypVhnNPDqdfU",
        "colab": {
          "base_uri": "https://localhost:8080/"
        },
        "outputId": "4644a4a3-0362-4e41-b124-d39f27152d88"
      },
      "execution_count": 3,
      "outputs": [
        {
          "output_type": "stream",
          "name": "stdout",
          "text": [
            "46/46 [==============================] - 0s 957us/step\n"
          ]
        }
      ]
    },
    {
      "cell_type": "code",
      "source": [],
      "metadata": {
        "id": "NOZGOtuVwdQu"
      },
      "execution_count": null,
      "outputs": []
    }
  ]
}