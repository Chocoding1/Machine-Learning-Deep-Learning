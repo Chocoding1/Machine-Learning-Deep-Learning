{
  "nbformat": 4,
  "nbformat_minor": 0,
  "metadata": {
    "colab": {
      "provenance": [],
      "authorship_tag": "ABX9TyNo4/o8yicmov+ob503ZexY",
      "include_colab_link": true
    },
    "kernelspec": {
      "name": "python3",
      "display_name": "Python 3"
    },
    "language_info": {
      "name": "python"
    }
  },
  "cells": [
    {
      "cell_type": "markdown",
      "metadata": {
        "id": "view-in-github",
        "colab_type": "text"
      },
      "source": [
        "<a href=\"https://colab.research.google.com/github/Chocoding1/Machine_Learning_Deep_Learning/blob/main/08_3.ipynb\" target=\"_parent\"><img src=\"https://colab.research.google.com/assets/colab-badge.svg\" alt=\"Open In Colab\"/></a>"
      ]
    },
    {
      "cell_type": "markdown",
      "source": [
        "# **합성곱 신경망의 시각화**\n",
        "\n",
        "이번 절에서는 합성곱 층이 이미지에서 어떤 것을 학습했는지 알아보기 위해 합성곱 층의 가중치와 특성 맵을 그림으로 시각화해보자.\n",
        "\n",
        "지금까지는 케라스의 Sequential 클래스만 사용했는데, 케라스는 좀 더 복잡한 모델을 만들 수 있는 함수형 API를 제공한다. 함수형 API가 무엇인지 할펴보고 합성곱 층의 특성 맵을 시각화해보는 데 사용해보자.\n",
        "\n",
        "이번 절에서는 이전 절에서 훈련했던 합성곱 신경망의 체크포인트 파일을 사용한다. 이 파일은 최적의 에포크까지 훈련한 모델 파라미터를 저장하고 있다."
      ],
      "metadata": {
        "id": "GKrM6PDY-DEc"
      }
    },
    {
      "cell_type": "markdown",
      "source": [
        "## 가중치 시각화\n",
        "\n",
        "합성곱 층은 여러 개의 필터를 사용해 이미지에서 특징을 학습한다. 각 필터는 커널이라 부르는 가중치와 절편을 가지고 있다. 일반적으로 절편은 시각적으로 의미가 있지 않다. 가중치는 입력 이미지의 2차원 영역에 적용되어 어떤 특징을 크게 두드러지게 표현하는 역할을 한다.\n",
        "\n",
        "예를 들어 다음과 같은 가중치는 둥근 모서리가 있는 영역에서 크게 활성화되고 그렇지 않은 영역에서는 낮은 값을 만들 것이다.<br>\n",
        "<img src=\"https://img1.daumcdn.net/thumb/R1280x0/?scode=mtistory2&fname=https%3A%2F%2Fblog.kakaocdn.net%2Fdn%2F7ynvi%2Fbtq2DruA7Yz%2F1JQefh2uQKG3lnKUq0IGgK%2Fimg.png\" weight=300 height=300><br>\n",
        "이 필터의 가운데 곡선 부분의 가중치 값은 높고 그 외 부분의 가중치 값은 낮을 것이다. 그렇게 해야 둥근 모서리가 있는 입력과 곱해져서 큰 출력을 만들기 때문이다."
      ],
      "metadata": {
        "id": "JeiENb03-Glu"
      }
    },
    {
      "cell_type": "markdown",
      "source": [
        "2절에서 훈련한 최적의 모델 파라미터를 불러오기 전에 2절의 코드에서 best-cnn-model.h5 파일을 생성해야 한다.\n",
        "\n",
        "이를 위해 2절의 코드에서 best-cnn-model.h5 파일을 생성 후 다운로드하여 사용하겠다."
      ],
      "metadata": {
        "id": "T5ygpG7NGlXi"
      }
    },
    {
      "cell_type": "code",
      "execution_count": 3,
      "metadata": {
        "id": "16g0TFiy9z02"
      },
      "outputs": [],
      "source": [
        "# 모델 파라미터 불러오기\n",
        "from tensorflow import keras\n",
        "\n",
        "model = keras.models.load_model('best-cnn-model.h5')"
      ]
    },
    {
      "cell_type": "code",
      "source": [
        "# 케라스 모델의 층 확인\n",
        "model.layers # layers 속성에 저장되어 있고, 이 속성은 파이썬 리스트이다."
      ],
      "metadata": {
        "colab": {
          "base_uri": "https://localhost:8080/"
        },
        "id": "b0UOKRsNG9ku",
        "outputId": "1016c02c-f6ee-4580-e3d4-b99489859ed3"
      },
      "execution_count": 4,
      "outputs": [
        {
          "output_type": "execute_result",
          "data": {
            "text/plain": [
              "[<keras.src.layers.convolutional.conv2d.Conv2D at 0x7fa3986b1090>,\n",
              " <keras.src.layers.pooling.max_pooling2d.MaxPooling2D at 0x7fa3986b11b0>,\n",
              " <keras.src.layers.convolutional.conv2d.Conv2D at 0x7fa3986b21a0>,\n",
              " <keras.src.layers.pooling.max_pooling2d.MaxPooling2D at 0x7fa3986b1780>,\n",
              " <keras.src.layers.reshaping.flatten.Flatten at 0x7fa3986b27a0>,\n",
              " <keras.src.layers.core.dense.Dense at 0x7fa3986b3850>,\n",
              " <keras.src.layers.regularization.dropout.Dropout at 0x7fa3986b2140>,\n",
              " <keras.src.layers.core.dense.Dense at 0x7fa3986c41c0>]"
            ]
          },
          "metadata": {},
          "execution_count": 4
        }
      ]
    },
    {
      "cell_type": "markdown",
      "source": [
        "이제 첫 번째 합성곱 층의 가중치를 조사해보자.<br>\n",
        "층의 가중치와 절편은 층의 weights 속성에 저장되어 있다. weights도 파이썬 리스트<br>\n",
        "layers 속성의 첫 번째 원소를 선택해 weights의 첫 번째 원소(가중치)와 두 번째 원소(절편)의 크기를 출력해보자."
      ],
      "metadata": {
        "id": "qaNmypXJHtB2"
      }
    },
    {
      "cell_type": "code",
      "source": [
        "conv = model.layers[0] # 첫 번째 합성곱 층\n",
        "print(conv)\n",
        "print(conv.weights[0].shape, conv.weights[1].shape)"
      ],
      "metadata": {
        "colab": {
          "base_uri": "https://localhost:8080/"
        },
        "id": "htYc15swHgQC",
        "outputId": "12e7aa9a-2972-4ac4-e5e2-5f9b8f4d15ad"
      },
      "execution_count": 8,
      "outputs": [
        {
          "output_type": "stream",
          "name": "stdout",
          "text": [
            "<keras.src.layers.convolutional.conv2d.Conv2D object at 0x7fa3986b1090>\n",
            "(3, 3, 1, 32) (32,)\n"
          ]
        }
      ]
    },
    {
      "cell_type": "markdown",
      "source": [
        "첫 번째 합성곱 층의 커널 크기는 (3, 3)이었고, 필터 개수는 32개였다. 또한 합성곱 층에 전달되는 입력의 깊이가 1이므로 위의 결과가 올바른 값이다."
      ],
      "metadata": {
        "id": "cj1uhQ0JI9NJ"
      }
    },
    {
      "cell_type": "markdown",
      "source": [
        "weights 속성은 텐서플로의 다차원 배열인 Tensor 클래스의 객체이다. 여기서는 다루기 쉽도록 numpy() 메서드를 사용해 넘파이 배열로 변환하겠다.<br>\n",
        "그 다음 가중치 배열의 평균과 표준편차를 계산해보자."
      ],
      "metadata": {
        "id": "jr5trlt_JMzg"
      }
    },
    {
      "cell_type": "code",
      "source": [
        "conv_weights = conv.weights[0].numpy()\n",
        "print(conv_weights.mean(), conv_weights.std()) # numpy의 mean(), std() 사용"
      ],
      "metadata": {
        "colab": {
          "base_uri": "https://localhost:8080/"
        },
        "id": "ZO4OtzuoIUl5",
        "outputId": "93ac1975-df3f-4629-f563-88a40367ce10"
      },
      "execution_count": 13,
      "outputs": [
        {
          "output_type": "stream",
          "name": "stdout",
          "text": [
            "-0.04398866 0.3172991\n"
          ]
        }
      ]
    },
    {
      "cell_type": "markdown",
      "source": [
        "위 가중치의 평균은 0에 가깝고 표준편차는 0.32 정도이다. 나중에 이 값을 훈련하기 전의 가중치와 비교해볼 예정이다."
      ],
      "metadata": {
        "id": "gET-sRsSJ8IZ"
      }
    },
    {
      "cell_type": "code",
      "source": [
        "# 가중치의 분포를 직관적으로 보기 위해 히스토그램을 그려보자.\n",
        "import matplotlib.pyplot as plt\n",
        "\n",
        "plt.hist(conv_weights.reshape(-1, 1))\n",
        "plt.xlabel('weight')\n",
        "plt.ylabel('count')\n",
        "plt.show()"
      ],
      "metadata": {
        "colab": {
          "base_uri": "https://localhost:8080/",
          "height": 449
        },
        "id": "qn11SudWJzST",
        "outputId": "fce099f1-d5ea-4cf8-9acb-58e87c2a5ff5"
      },
      "execution_count": 16,
      "outputs": [
        {
          "output_type": "display_data",
          "data": {
            "text/plain": [
              "<Figure size 640x480 with 1 Axes>"
            ],
            "image/png": "[encoded data removed]"
          },
          "metadata": {}
        }
      ]
    },
    {
      "cell_type": "markdown",
      "source": [
        "matplotlib의 hist() 함수에는 히스토그램을 그리기 위해 1차원 배열로 전달해야 한다. 이를 위해 conv_weights 배열을 1개의 열이 있는 배열로 변환했다."
      ],
      "metadata": {
        "id": "0WJXSx0AKqYr"
      }
    },
    {
      "cell_type": "markdown",
      "source": [
        "히스토그램을 보면 0을 중심으로 분포를 띠고 있는 것을 알 수 있다. 이 또한 나중에 훈련하기 전의 가중치와 비교할 것이다."
      ],
      "metadata": {
        "id": "lylBc0F3K_5a"
      }
    },
    {
      "cell_type": "markdown",
      "source": [
        "이번에는 32개의 커널을 출력해보자."
      ],
      "metadata": {
        "id": "JK3C_x2oLKYs"
      }
    },
    {
      "cell_type": "code",
      "source": [
        "fig, axs = plt.subplots(2, 16, figsize=(15,2))\n",
        "for i in range(2):\n",
        "  for j in range(16):\n",
        "    # conv_weights.shape : (3, 3, 1, 32)\n",
        "    axs[i, j].imshow(conv_weights[:,:,0,i*16 + j], vmin=-0.5, vmax=0.5)\n",
        "    axs[i, j].axis('off')\n",
        "plt.show()"
      ],
      "metadata": {
        "colab": {
          "base_uri": "https://localhost:8080/",
          "height": 182
        },
        "id": "4MRUVh0BKbLB",
        "outputId": "61ed823d-ed44-4f2d-fea0-aad2a9b4727d"
      },
      "execution_count": 18,
      "outputs": [
        {
          "output_type": "display_data",
          "data": {
            "text/plain": [
              "<Figure size 1500x200 with 32 Axes>"
            ],
            "image/png": "[encoded data removed]"
          },
          "metadata": {}
        }
      ]
    },
    {
      "cell_type": "markdown",
      "source": [
        "imshow() 함수는 배열에 있는 최댓값과 최솟값을 사용해 픽셀의 강도를 표현한다. 즉 값이 0.1이던 0.4이던 그 배열의 최댓값이면 가장 밝은 노란색으로 그린다. 만약 두 배열을 imshow() 함수로 비교하려면 바람직하지 않다. 어떤 절댓값으로 기준을 정해서 픽셀의 강도를 나타내야 비교하기 좋기 때문이다.<br>\n",
        "이를 위해 위 코드에서 vmin과 vmax로 matplotlib의 컬러맵으로 표현할 범위를 지정했다."
      ],
      "metadata": {
        "id": "wkaxNv3vMjAW"
      }
    },
    {
      "cell_type": "markdown",
      "source": [
        "결과 그래프를 보면 이 가중치 값이 무작위로 나열된 것이 아닌 어떤 패턴을 볼 수 있다. 예를 들어 첫 번째 줄의 맨 왼쪽 가중치는 오른쪽 3픽셀의 값이 높다(밝은 부분의 값이 높다). 이 가중치는 오른쪽에 놓인 직선을 만나면 크게 활성화될 것이다."
      ],
      "metadata": {
        "id": "djY4FkQbSIZl"
      }
    },
    {
      "cell_type": "markdown",
      "source": [
        "이번에는 훈련하지 않은 빈 합성곱 신경망을 만들어보자. 그리고 이 합성곱 층에서 가중치가 위에서 본 훈련한 가중치와 어떻게 다른지 그림으로 비교해보자."
      ],
      "metadata": {
        "id": "RlDzf83iSWd2"
      }
    },
    {
      "cell_type": "code",
      "source": [
        "# Sequential 클래스로 모델 만들고 Conv2D 층 하나 추가\n",
        "no_training_model = keras.Sequential()\n",
        "no_training_model.add(keras.layers.Conv2D(32, kernel_size=3, activation='relu', padding='same', input_shape=(28,28,1)))"
      ],
      "metadata": {
        "id": "BCKeBv4nME0r"
      },
      "execution_count": 19,
      "outputs": []
    },
    {
      "cell_type": "code",
      "source": [
        "# 이 모델의 첫 번째 층(Conv2D 층)의 가중치(절편 x)를 저장\n",
        "no_training_conv = no_training_model.layers[0]\n",
        "print(no_training_conv.weights[0].shape)"
      ],
      "metadata": {
        "colab": {
          "base_uri": "https://localhost:8080/"
        },
        "id": "kwlbW76tSziz",
        "outputId": "12aed527-e725-41e4-8b64-1ee4a9f31e16"
      },
      "execution_count": 20,
      "outputs": [
        {
          "output_type": "stream",
          "name": "stdout",
          "text": [
            "(3, 3, 1, 32)\n"
          ]
        }
      ]
    },
    {
      "cell_type": "markdown",
      "source": [
        "이 모델도 동일하게 (3, 3) 커널을 가진 필터를 32개 사용했기 때문에 가중치의 크기도 앞서 그래프로 출력한 가중치와 같다."
      ],
      "metadata": {
        "id": "qjjA0zaXTKts"
      }
    },
    {
      "cell_type": "code",
      "source": [
        "# 이 가중치의 평균과 표준편차 계산\n",
        "no_training_weights = no_training_conv.weights[0].numpy()\n",
        "print(no_training_weights.mean(), no_training_weights.std())"
      ],
      "metadata": {
        "colab": {
          "base_uri": "https://localhost:8080/"
        },
        "id": "3ro4gr-iTGqN",
        "outputId": "44ad39e4-3ef6-4850-fb03-ca5be609eefe"
      },
      "execution_count": 21,
      "outputs": [
        {
          "output_type": "stream",
          "name": "stdout",
          "text": [
            "-0.0028582488 0.08272694\n"
          ]
        }
      ]
    },
    {
      "cell_type": "markdown",
      "source": [
        "평균은 이전과 동일하게 0에 가깝지만, 표준편차는 이전과 달리 매우 작다."
      ],
      "metadata": {
        "id": "7i1i1aNmTvW4"
      }
    },
    {
      "cell_type": "code",
      "source": [
        "# 가중치 배열 히스토그램으로 표현\n",
        "plt.hist(no_training_weights.reshape(-1, 1))\n",
        "plt.xlabel('weight')\n",
        "plt.ylabel('count')\n",
        "plt.show()"
      ],
      "metadata": {
        "colab": {
          "base_uri": "https://localhost:8080/",
          "height": 449
        },
        "id": "5LyDAKd3TlgI",
        "outputId": "e3e71c23-1165-4544-d333-eb3264e824ef"
      },
      "execution_count": 22,
      "outputs": [
        {
          "output_type": "display_data",
          "data": {
            "text/plain": [
              "<Figure size 640x480 with 1 Axes>"
            ],
            "image/png": "[encoded data removed]"
          },
          "metadata": {}
        }
      ]
    },
    {
      "cell_type": "markdown",
      "source": [
        "확실히 이전 그래프와 다르다. 대부분의 가중치가 -0.15~0.15 사이에 있고, 비교적 고른 분포를 보인다.<br>\n",
        "이런 이유는 텐서플로가 신경망의 가중치를 처음 초기화할 떄 균등 분포에서 랜덤하게 값을 선택하기 때문이다."
      ],
      "metadata": {
        "id": "Uc7cdnAOUGLl"
      }
    },
    {
      "cell_type": "code",
      "source": [
        "# 해당 가중치 값을 이전처럼 그림으로 출력\n",
        "fig, axs = plt.subplots(2, 16, figsize=(15,2))\n",
        "for i in range(2):\n",
        "  for j in range(16):\n",
        "    # 위의 학습된 가중치와 비교하기 위해 동일하게 vmin과 vmax를 -0.5와 0.5로 설정\n",
        "    axs[i, j].imshow(no_training_weights[:,:,0,i*16 + j], vmin=-0.5, vmax=0.5)\n",
        "    axs[i, j].axis('off')\n",
        "plt.show()"
      ],
      "metadata": {
        "colab": {
          "base_uri": "https://localhost:8080/",
          "height": 182
        },
        "id": "O96105uXUDX4",
        "outputId": "71a44652-b94b-4f01-a4c8-bb5c8c09eef5"
      },
      "execution_count": 24,
      "outputs": [
        {
          "output_type": "display_data",
          "data": {
            "text/plain": [
              "<Figure size 1500x200 with 32 Axes>"
            ],
            "image/png": "[encoded data removed]"
          },
          "metadata": {}
        }
      ]
    },
    {
      "cell_type": "markdown",
      "source": [
        "학습된 가중치와 비교했을 때 전체적으로 학습이 안 된 가중치들이 밋밋하게 출력되었다. 이를 통해 합성곱 신경망이 패션 MNIST 데이터셋의 분류 정확도를 높이기 위해 유용한 패턴을 학습했다는 사실을 알 수 있다."
      ],
      "metadata": {
        "id": "6cgytBSAVHks"
      }
    },
    {
      "cell_type": "markdown",
      "source": [
        "합성곱 신경망의 학습을 시각화하는 두 번째 방법은 합성곱 층에서 출력된 특성 맵을 그려 보는 것이다. 이를 통해 입력 이미지를 신경망 층이 어떻게 바라보는지 엿볼 수 있다.\n",
        "\n",
        "합성곱 층의 출력을 만들기 전에 함수형 API에 대해 알아보자."
      ],
      "metadata": {
        "id": "esaYXLj6VVnv"
      }
    },
    {
      "cell_type": "markdown",
      "source": [
        "## 함수형 API\n",
        "\n",
        "지금까지는 신경망 모델을 만들 때 케라스 Sequential 클래스를 사용했다. 딥러닝에는 좀 더 복잡한 모델이 많이 존재한다. 예를 들면 입력이 2개라던가, 출력이 2개라던가.. 이런 경우는 Sequential 클래스를 사용하기 어렵다.\n",
        "\n",
        "대신 **함수형 API**를 사용한다.<br>\n",
        "함수형 API는 케라스의 Model 클래스를 사용하여 모델을 만든다.<br>\n",
        "간단한 예로 7장에서 만들었던 Dense 층 2개로 이루어진 완전 연결 신경망을 함수형 API로 구현해보자.<br>\n",
        "먼저 2개의 Dense 층 객체를 생성하자.\n",
        "```\n",
        "dense1 = keras.layers.Dense(100, activation='sigmoid')\n",
        "dense2 = keras.layers.Dense(10, activation='softmax')\n",
        "```\n",
        "위의 코드는 7장과 동일. 이 객체를 Sequential 클래스 객체의 add() 메서드에 전달할 수 있지만, 다음과 같이 함수처럼 호출할 수도 있다.\n",
        "```\n",
        "hidden = dense1(inputs)\n",
        "```\n",
        "사실 파이썬의 모든 객체는 호출 가능하다. 따라서 케라스의 층 객체도 함수처럼 호출했을 때 적절히 동작할 수 있다.<br>\n",
        "앞의 코드를 실행하면 입력값 inputs를 Dense 층에 통과시킨 후 출력값 hidden을 만들어준다.<br>\n",
        "그럼 이제 두 번째 층을 호출하는데, 이때는 첫 번째 층의 출력을 입력으로 사용한다.\n",
        "```\n",
        "outputs = dense2(hidden)\n",
        "```\n",
        "그다음 inputs와 outputs을 Model 클래스로 연결해주면 된다.\n",
        "```\n",
        "model = keras.Model(inputs, outputs)\n",
        "```\n",
        "즉 입력에서 출력까지 층을 호출한 결과를 계속 이어주고 Model 클래스에 입력과 최종 출력을 지정한다.<br>\n",
        "그런데 inputs은 어디서 온 건가..?<br>\n",
        "이전 절에서 plot_model() 함수로 모델의 층을 도식화했을 때 InputLayer 클래스가 맨 처음에 나왔었는데, Sequential 클래스는 InputLayer 클래스를 자동으로 추가하고 호출해 주지만 Model 클래스에서는 우리가 수동으로 만들어서 호출해야 한다.<br>\n",
        "따라서 inputs가 InputLayer 클래스의 출력값이 되어야 한다.\n",
        "\n",
        "note) InputLayer의 객체는 어디에??<br>\n",
        "케라스 모델은 layers 속성 외에 InputLayer 객체를 포함한 _layers 리스트 속성을 따로 가지고 있는데, Sequential 클래스 객체의 _layers 속성의 첫 번째 항목이 바로 InputLayer 클래스의 객체이다.<br>\n",
        "InputLayer 클래스는 신경망의 입력층 역할을 한다. 즉 모델의 입력을 첫 번째 은닉층에 단순히 전달하는 역할을 한다. 따라서 InputLayer 객체의 입력과 출력은 동일하다."
      ],
      "metadata": {
        "id": "pAm7Jh9AVllh"
      }
    },
    {
      "cell_type": "markdown",
      "source": [
        "케라스는 InputLayer 클래스 객체를 쉽게 다룰 수 있도록 Input() 함수를 별도로 제공하는데, 입력의 크기를 지정하는 shape 매개변수와 함께 이 함수를 호출하면 InputLayer 클래스 객체를 만들어 출력을 반환해준다."
      ],
      "metadata": {
        "id": "56w8mSXBbnNO"
      }
    },
    {
      "cell_type": "code",
      "source": [
        "inputs = keras.Input(shape=(784,))"
      ],
      "metadata": {
        "id": "M6zTVVHBUu8b"
      },
      "execution_count": 25,
      "outputs": []
    },
    {
      "cell_type": "markdown",
      "source": [
        "전체를 합쳐 보면 다음과 같다.\n",
        "```\n",
        "inputs = keras.Input(shape=(784,))\n",
        "hidden = dense1(inputs)\n",
        "outputs = dense2(hidden)\n",
        "model = keras.Model(inputs, outputs)\n",
        "```\n",
        "이렇게 모델을 만들면 중간에 다양한 형태로 층을 연결할 수 있다. 그런데 특성 맵 시각화를 만드는 데 함수형 API가 왜 필요할까?\n",
        "\n",
        "이전 절에서 정의한 model 객체의 층을 순서대로 나열하면 다음과 같다.<br>\n",
        "model 객체 -> InputLayer -> Conv2D -> Maxpooling2D -> Conv2D -> Maxpooing2D -> Flatten -> Dense -> Dropout -> Dense<br>\n",
        "우리가 필요한 것은 첫 번째 Conv2D의 출력이다. model 객체의 입력과 Conv2D의 출력을 알 수 있다면 이 둘을 연결하여 새로운 모델을 얻을 수 있지 않을까?"
      ],
      "metadata": {
        "id": "Re6NjIU3cGnm"
      }
    },
    {
      "cell_type": "markdown",
      "source": [
        "model 객체의 predict() 메서드를 호출하면 입력부터 마지막 층까지 모든 계산을 수행한 후 최종 출력을 반환한다. 하지만 우리가 필요한 것은 첫 번째 Conv2D 층이 출력한 특성 맵. 첫 번째 층의 출력은 Conv2D 객체의 output 속성에서 얻을 수 있다.(model.layers[0].output)<br>\n",
        "model 객체의 입력은 어떻게 얻을 수 있을까?<br>\n",
        "케라스 모델은 input 속성으로 입력을 참조할 수 있다. 즉 model.input으로 이 모델의 입력을 간단히 얻을 수 있다."
      ],
      "metadata": {
        "id": "ki4Qgx8fdKQe"
      }
    },
    {
      "cell_type": "code",
      "source": [
        "print(model.input)"
      ],
      "metadata": {
        "colab": {
          "base_uri": "https://localhost:8080/"
        },
        "id": "L8Wy8Imgb03E",
        "outputId": "95579085-946b-4c93-b832-bb1ed026b56d"
      },
      "execution_count": 28,
      "outputs": [
        {
          "output_type": "stream",
          "name": "stdout",
          "text": [
            "KerasTensor(type_spec=TensorSpec(shape=(None, 28, 28, 1), dtype=tf.float32, name='conv2d_input'), name='conv2d_input', description=\"created by layer 'conv2d_input'\")\n"
          ]
        }
      ]
    },
    {
      "cell_type": "markdown",
      "source": [
        "이제 model.input과 model.layers[0].output을 연결하는 새로운 conv_acti 모델을 만들 수 있다."
      ],
      "metadata": {
        "id": "4YXJZEzFduOF"
      }
    },
    {
      "cell_type": "code",
      "source": [
        "conv_acti = keras.Model(model.input, model.layers[0].output)"
      ],
      "metadata": {
        "id": "Qyo_hmACdm9o"
      },
      "execution_count": 27,
      "outputs": []
    },
    {
      "cell_type": "markdown",
      "source": [
        "model 객체의 predict() 메서드를 호출하면 최종 출력층의 확률을 반환한다. 그러나 conv_acti의 predict() 메서드를 호출하며 첫 번째 Conv2D의 출력을 반환할 것이다.\n",
        "\n",
        "이제 준비가 끝났으니 특성 맵을 시각화해보자."
      ],
      "metadata": {
        "id": "mF71wyJLd6SZ"
      }
    },
    {
      "cell_type": "markdown",
      "source": [
        "## 특성 맵 시각화"
      ],
      "metadata": {
        "id": "uDlLNkzieOSM"
      }
    },
    {
      "cell_type": "code",
      "source": [],
      "metadata": {
        "id": "uSm7jOHNd3Gf"
      },
      "execution_count": null,
      "outputs": []
    }
  ]
}