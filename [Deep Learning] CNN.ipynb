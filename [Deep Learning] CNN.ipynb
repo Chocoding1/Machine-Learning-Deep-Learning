{
  "nbformat": 4,
  "nbformat_minor": 0,
  "metadata": {
    "colab": {
      "provenance": [],
      "authorship_tag": "ABX9TyNxoPRV3FyE0IyI/XNTgiZf",
      "include_colab_link": true
    },
    "kernelspec": {
      "name": "python3",
      "display_name": "Python 3"
    },
    "language_info": {
      "name": "python"
    }
  },
  "cells": [
    {
      "cell_type": "markdown",
      "metadata": {
        "id": "view-in-github",
        "colab_type": "text"
      },
      "source": [
        "<a href=\"https://colab.research.google.com/github/Chocoding1/Machine_Learning_Deep_Learning/blob/main/%5BDeep%20Learning%5D%20CNN.ipynb\" target=\"_parent\"><img src=\"https://colab.research.google.com/assets/colab-badge.svg\" alt=\"Open In Colab\"/></a>"
      ]
    },
    {
      "cell_type": "markdown",
      "source": [
        "# 이미지 인식 - 컨볼루션 신경망(CNN)"
      ],
      "metadata": {
        "id": "NFMgIv6EsVtK"
      }
    },
    {
      "cell_type": "code",
      "execution_count": 15,
      "metadata": {
        "colab": {
          "base_uri": "https://localhost:8080/"
        },
        "id": "gzvIxxzDhIPt",
        "outputId": "65b9cbb8-2666-4a3a-99b7-345f18d0bc05"
      },
      "outputs": [
        {
          "output_type": "stream",
          "name": "stdout",
          "text": [
            "train set : (60000, 28, 28)\n",
            "test set : (10000, 28, 28)\n"
          ]
        }
      ],
      "source": [
        "# 데이터 불러오기\n",
        "from tensorflow.keras.datasets import mnist\n",
        "\n",
        "(X_train, y_train), (X_test, y_test) = mnist.load_data()\n",
        "\n",
        "print(f'train set : {X_train.shape}')\n",
        "print(f'test set : {X_test.shape}')"
      ]
    },
    {
      "cell_type": "code",
      "source": [
        "# 이미지 출력\n",
        "import matplotlib.pyplot as plt\n",
        "\n",
        "plt.imshow(X_train[0], cmap='Greys') # imshow() : 이미지 출력 함수\n",
        "plt.show()"
      ],
      "metadata": {
        "colab": {
          "base_uri": "https://localhost:8080/",
          "height": 430
        },
        "id": "zwKevWpRkAYZ",
        "outputId": "b58b2e39-9b4b-40f3-c64f-5e9a20d60f45"
      },
      "execution_count": 16,
      "outputs": [
        {
          "output_type": "display_data",
          "data": {
            "text/plain": [
              "<Figure size 640x480 with 1 Axes>"
            ],
            "image/png": "[encoded data removed]"
          },
          "metadata": {}
        }
      ]
    },
    {
      "cell_type": "markdown",
      "source": [
        "이미지들은 28 x 28 픽셀로 구성<br>\n",
        "밝기는 0~255로 나타내며, 0이면 가장 밝은 하얀색 255면 가장 어두운 검은색"
      ],
      "metadata": {
        "id": "PfFk_04IkZhy"
      }
    },
    {
      "cell_type": "code",
      "source": [
        "# 이미지의 각 픽셀값 출력\n",
        "import sys\n",
        "\n",
        "for x in X_train[0]:\n",
        "  for i in x:\n",
        "    sys.stdout.write('%-3s' % i)\n",
        "  sys.stdout.write('\\n')"
      ],
      "metadata": {
        "colab": {
          "base_uri": "https://localhost:8080/"
        },
        "id": "mVpUp8RpkWNO",
        "outputId": "c44f3b29-0664-417a-cb9d-780abadabc42"
      },
      "execution_count": 17,
      "outputs": [
        {
          "output_type": "stream",
          "name": "stdout",
          "text": [
            "0  0  0  0  0  0  0  0  0  0  0  0  0  0  0  0  0  0  0  0  0  0  0  0  0  0  0  0  \n",
            "0  0  0  0  0  0  0  0  0  0  0  0  0  0  0  0  0  0  0  0  0  0  0  0  0  0  0  0  \n",
            "0  0  0  0  0  0  0  0  0  0  0  0  0  0  0  0  0  0  0  0  0  0  0  0  0  0  0  0  \n",
            "0  0  0  0  0  0  0  0  0  0  0  0  0  0  0  0  0  0  0  0  0  0  0  0  0  0  0  0  \n",
            "0  0  0  0  0  0  0  0  0  0  0  0  0  0  0  0  0  0  0  0  0  0  0  0  0  0  0  0  \n",
            "0  0  0  0  0  0  0  0  0  0  0  0  3  18 18 18 12613617526 1662552471270  0  0  0  \n",
            "0  0  0  0  0  0  0  0  30 36 94 15417025325325325325322517225324219564 0  0  0  0  \n",
            "0  0  0  0  0  0  0  49 23825325325325325325325325325193 82 82 56 39 0  0  0  0  0  \n",
            "0  0  0  0  0  0  0  18 2192532532532532531981822472410  0  0  0  0  0  0  0  0  0  \n",
            "0  0  0  0  0  0  0  0  80 15610725325320511 0  43 1540  0  0  0  0  0  0  0  0  0  \n",
            "0  0  0  0  0  0  0  0  0  14 1  15425390 0  0  0  0  0  0  0  0  0  0  0  0  0  0  \n",
            "0  0  0  0  0  0  0  0  0  0  0  1392531902  0  0  0  0  0  0  0  0  0  0  0  0  0  \n",
            "0  0  0  0  0  0  0  0  0  0  0  11 19025370 0  0  0  0  0  0  0  0  0  0  0  0  0  \n",
            "0  0  0  0  0  0  0  0  0  0  0  0  35 2412251601081  0  0  0  0  0  0  0  0  0  0  \n",
            "0  0  0  0  0  0  0  0  0  0  0  0  0  81 24025325311925 0  0  0  0  0  0  0  0  0  \n",
            "0  0  0  0  0  0  0  0  0  0  0  0  0  0  45 18625325315027 0  0  0  0  0  0  0  0  \n",
            "0  0  0  0  0  0  0  0  0  0  0  0  0  0  0  16 93 2522531870  0  0  0  0  0  0  0  \n",
            "0  0  0  0  0  0  0  0  0  0  0  0  0  0  0  0  0  24925324964 0  0  0  0  0  0  0  \n",
            "0  0  0  0  0  0  0  0  0  0  0  0  0  0  46 1301832532532072  0  0  0  0  0  0  0  \n",
            "0  0  0  0  0  0  0  0  0  0  0  0  39 1482292532532532501820  0  0  0  0  0  0  0  \n",
            "0  0  0  0  0  0  0  0  0  0  24 11422125325325325320178 0  0  0  0  0  0  0  0  0  \n",
            "0  0  0  0  0  0  0  0  23 66 21325325325325319881 2  0  0  0  0  0  0  0  0  0  0  \n",
            "0  0  0  0  0  0  18 17121925325325325319580 9  0  0  0  0  0  0  0  0  0  0  0  0  \n",
            "0  0  0  0  55 17222625325325325324413311 0  0  0  0  0  0  0  0  0  0  0  0  0  0  \n",
            "0  0  0  0  13625325325321213513216 0  0  0  0  0  0  0  0  0  0  0  0  0  0  0  0  \n",
            "0  0  0  0  0  0  0  0  0  0  0  0  0  0  0  0  0  0  0  0  0  0  0  0  0  0  0  0  \n",
            "0  0  0  0  0  0  0  0  0  0  0  0  0  0  0  0  0  0  0  0  0  0  0  0  0  0  0  0  \n",
            "0  0  0  0  0  0  0  0  0  0  0  0  0  0  0  0  0  0  0  0  0  0  0  0  0  0  0  0  \n"
          ]
        }
      ]
    },
    {
      "cell_type": "markdown",
      "source": [
        "이렇게 이미지는 다시 숫자의 집합으로 바뀌어 학습 데이터로 사용된다.<br>\n",
        "\n",
        "즉, 28 x 28 = 784개의 속성을 이용해 0~9의 클래스 중 하나로 예측하는 것"
      ],
      "metadata": {
        "id": "d54ya4y-oTh4"
      }
    },
    {
      "cell_type": "code",
      "source": [
        "# 학습을 위해 1차원 배열로 변경\n",
        "X_train = X_train.reshape(X_train.shape[0], 28*28) # (60000, 28, 28) -> (60000, 784)"
      ],
      "metadata": {
        "id": "wQxLG1mwoGtx"
      },
      "execution_count": 18,
      "outputs": []
    },
    {
      "cell_type": "markdown",
      "source": [
        "keras는 데이터를 0에서 1 사이의 값으로 변환한 후 구동할 때 최적의 성능을 보인다."
      ],
      "metadata": {
        "id": "Qn5xZi2CpDIC"
      }
    },
    {
      "cell_type": "code",
      "source": [
        "# 0~255의 모든 픽셀값들을 0~1로 변경 -> 정규화\n",
        "X_train = X_train.astype('float32') # 나눗셈을 위해 정수형을 실수형으로 변경\n",
        "X_train /= 255"
      ],
      "metadata": {
        "id": "6fvS-dyeo2Cq"
      },
      "execution_count": 19,
      "outputs": []
    },
    {
      "cell_type": "code",
      "source": [
        "# 테스트셋도 변경\n",
        "X_test = X_test.reshape(X_test.shape[0], 28*28).astype('float32') / 255"
      ],
      "metadata": {
        "id": "6FTMDUtwppAD"
      },
      "execution_count": 20,
      "outputs": []
    },
    {
      "cell_type": "code",
      "source": [
        "# 원-핫 인코딩 적용 (여러 클래스를 0과 1만 이용해서 나타내기 위해)\n",
        "# to_categorical() : 정수형 클래스 레이블을 원-핫 인코딩 벡터로 변환하는 함수\n",
        "from keras.utils import to_categorical\n",
        "\n",
        "y_train = to_categorical(y_train, 10) # to_categorical(클래스, 클래스 개수)\n",
        "y_test = to_categorical(y_test, 10)"
      ],
      "metadata": {
        "id": "4d01KSyuqHpN"
      },
      "execution_count": 21,
      "outputs": []
    },
    {
      "cell_type": "code",
      "source": [
        "# 변환 확인\n",
        "y_train[0]"
      ],
      "metadata": {
        "colab": {
          "base_uri": "https://localhost:8080/"
        },
        "id": "vrCe7qEcrYYP",
        "outputId": "690f79e3-de22-4e55-fdbf-b0da259cbd2d"
      },
      "execution_count": 22,
      "outputs": [
        {
          "output_type": "execute_result",
          "data": {
            "text/plain": [
              "array([0., 0., 0., 0., 0., 1., 0., 0., 0., 0.], dtype=float32)"
            ]
          },
          "metadata": {},
          "execution_count": 22
        }
      ]
    },
    {
      "cell_type": "markdown",
      "source": [
        "## 딥러닝 기본 프레임 생성"
      ],
      "metadata": {
        "id": "OCsvoOmTsTKI"
      }
    },
    {
      "cell_type": "code",
      "source": [
        "from tensorflow.keras.models import Sequential\n",
        "from tensorflow.keras.layers import Dense\n",
        "\n",
        "model = Sequential()\n",
        "model.add(Dense(512, input_dim=784, activation='relu'))\n",
        "model.add(Dense(10, activation='softmax'))"
      ],
      "metadata": {
        "id": "_569PBSdrdcr"
      },
      "execution_count": 24,
      "outputs": []
    },
    {
      "cell_type": "code",
      "source": [
        "model.compile(loss='categorical_crossentropy', optimizer='adam', metrics=['accuracy'])"
      ],
      "metadata": {
        "id": "K-3EOWq5s_0-"
      },
      "execution_count": 25,
      "outputs": []
    },
    {
      "cell_type": "code",
      "source": [
        "# 모델 자동 저장, 학습 자동 중단 설정\n",
        "from tensorflow.keras.callbacks import EarlyStopping, ModelCheckpoint\n",
        "\n",
        "modelpath = './mnist_best.hdf5'\n",
        "checkpointer = ModelCheckpoint(filepath=modelpath, monitor='val_loss', verbose=1, save_best_only=True)\n",
        "early_stopping_callback = EarlyStopping(monitor='val_loss', patience=10)"
      ],
      "metadata": {
        "id": "hejYAg_7tL2D"
      },
      "execution_count": 26,
      "outputs": []
    },
    {
      "cell_type": "code",
      "source": [
        "# 모델 학습\n",
        "history = model.fit(X_train, y_train, validation_split=0.25, epochs=30, batch_size=200, verbose=0, callbacks=[early_stopping_callback, checkpointer])"
      ],
      "metadata": {
        "colab": {
          "base_uri": "https://localhost:8080/"
        },
        "id": "4XfSbeHntwh0",
        "outputId": "256ade30-f957-4934-d99b-3c3e67f52380"
      },
      "execution_count": 27,
      "outputs": [
        {
          "output_type": "stream",
          "name": "stdout",
          "text": [
            "\n",
            "Epoch 1: val_loss improved from inf to 0.18965, saving model to ./mnist_best.hdf5\n"
          ]
        },
        {
          "output_type": "stream",
          "name": "stderr",
          "text": [
            "/usr/local/lib/python3.10/dist-packages/keras/src/engine/training.py:3103: UserWarning: You are saving your model as an HDF5 file via `model.save()`. This file format is considered legacy. We recommend using instead the native Keras format, e.g. `model.save('my_model.keras')`.\n",
            "  saving_api.save_model(\n"
          ]
        },
        {
          "output_type": "stream",
          "name": "stdout",
          "text": [
            "\n",
            "Epoch 2: val_loss improved from 0.18965 to 0.13559, saving model to ./mnist_best.hdf5\n",
            "\n",
            "Epoch 3: val_loss improved from 0.13559 to 0.11396, saving model to ./mnist_best.hdf5\n",
            "\n",
            "Epoch 4: val_loss improved from 0.11396 to 0.10144, saving model to ./mnist_best.hdf5\n",
            "\n",
            "Epoch 5: val_loss improved from 0.10144 to 0.09094, saving model to ./mnist_best.hdf5\n",
            "\n",
            "Epoch 6: val_loss improved from 0.09094 to 0.08596, saving model to ./mnist_best.hdf5\n",
            "\n",
            "Epoch 7: val_loss improved from 0.08596 to 0.08123, saving model to ./mnist_best.hdf5\n",
            "\n",
            "Epoch 8: val_loss did not improve from 0.08123\n",
            "\n",
            "Epoch 9: val_loss did not improve from 0.08123\n",
            "\n",
            "Epoch 10: val_loss did not improve from 0.08123\n",
            "\n",
            "Epoch 11: val_loss did not improve from 0.08123\n",
            "\n",
            "Epoch 12: val_loss improved from 0.08123 to 0.08020, saving model to ./mnist_best.hdf5\n",
            "\n",
            "Epoch 13: val_loss did not improve from 0.08020\n",
            "\n",
            "Epoch 14: val_loss improved from 0.08020 to 0.07863, saving model to ./mnist_best.hdf5\n",
            "\n",
            "Epoch 15: val_loss did not improve from 0.07863\n",
            "\n",
            "Epoch 16: val_loss did not improve from 0.07863\n",
            "\n",
            "Epoch 17: val_loss did not improve from 0.07863\n",
            "\n",
            "Epoch 18: val_loss did not improve from 0.07863\n",
            "\n",
            "Epoch 19: val_loss did not improve from 0.07863\n",
            "\n",
            "Epoch 20: val_loss did not improve from 0.07863\n",
            "\n",
            "Epoch 21: val_loss did not improve from 0.07863\n",
            "\n",
            "Epoch 22: val_loss did not improve from 0.07863\n",
            "\n",
            "Epoch 23: val_loss did not improve from 0.07863\n",
            "\n",
            "Epoch 24: val_loss did not improve from 0.07863\n"
          ]
        }
      ]
    },
    {
      "cell_type": "code",
      "source": [
        "# 테스트셋 정확도 출력\n",
        "print(f'test set accuracy : {model.evaluate(X_test, y_test)[1]}')"
      ],
      "metadata": {
        "colab": {
          "base_uri": "https://localhost:8080/"
        },
        "id": "t0GTOA3TuJ96",
        "outputId": "b3aff4f3-0f41-45e3-b8cc-923b8ddf9de3"
      },
      "execution_count": 28,
      "outputs": [
        {
          "output_type": "stream",
          "name": "stdout",
          "text": [
            "313/313 [==============================] - 2s 7ms/step - loss: 0.0711 - accuracy: 0.9813\n",
            "test set accuracy : 0.9812999963760376\n"
          ]
        }
      ]
    },
    {
      "cell_type": "code",
      "source": [
        "# 실행결과 그래프화\n",
        "import matplotlib.pyplot as plt\n",
        "import numpy as np\n",
        "\n",
        "y_vloss = history.history['val_loss']\n",
        "\n",
        "y_loss = history.history['loss']\n",
        "\n",
        "x_len = np.arange(len(y_loss))\n",
        "plt.plot(x_len, y_vloss, marker='.', c='red', label='Testset_loss')\n",
        "plt.plot(x_len, y_loss, marker='.', c='blue', label='Trainset_loss')\n",
        "\n",
        "plt.legend(loc='upper right')\n",
        "plt.grid()\n",
        "plt.xlabel('epoch')\n",
        "plt.ylabel('loss')\n",
        "plt.show()"
      ],
      "metadata": {
        "colab": {
          "base_uri": "https://localhost:8080/",
          "height": 449
        },
        "id": "z43ab_WSuisY",
        "outputId": "44902a98-3a6a-4777-fb23-086c6c8874b2"
      },
      "execution_count": 29,
      "outputs": [
        {
          "output_type": "display_data",
          "data": {
            "text/plain": [
              "<Figure size 640x480 with 1 Axes>"
            ],
            "image/png": "[encoded data removed]"
          },
          "metadata": {}
        }
      ]
    },
    {
      "cell_type": "markdown",
      "source": [
        "## 컨볼루션 신경망(CNN)\n",
        "\n",
        "입력된 이미지에서 다시 한 번 특징을 추출하기 위해 커널(슬라이딩 윈도우)을 도입하는 기법"
      ],
      "metadata": {
        "id": "2mkuTC25wgyB"
      }
    },
    {
      "cell_type": "code",
      "source": [
        "# Conv2D() : 컨볼루션 층을 추가하는 keras의 함수\n",
        "from tensorflow.keras.layers import Conv2D\n",
        "\n",
        "X_train = X_train.reshape(X_train.shape[0], 28, 28, 1)\n",
        "model.add(Conv2D(32, kernel_size=(3,3), input_shape=(28,28,1), activation='relu'))\n",
        "# 32 : 커널 개수 / kernel_size : 커널의 크기(여기서는 3 x 3)\n",
        "# input_shape(행, 열, 색상 또는 흑백) : 앞선 Dense층과 달리 CNN층은 이미지를 1차원으로 하지 않아도 된다.(세 번째 인자는 이미지가 색상이면 3, 흑백이면 1)"
      ],
      "metadata": {
        "id": "nizPtF3iyz30"
      },
      "execution_count": null,
      "outputs": []
    },
    {
      "cell_type": "code",
      "source": [
        "# 컨볼루션 층 하나 더 추가\n",
        "model.add(Conv2D(64, (3, 3), activation='relu'))"
      ],
      "metadata": {
        "id": "QOnqhLd-xcvI"
      },
      "execution_count": null,
      "outputs": []
    },
    {
      "cell_type": "markdown",
      "source": [
        "## Max Pooling, Drop Out, Flatten"
      ],
      "metadata": {
        "id": "Oas0JwX7zgLT"
      }
    },
    {
      "cell_type": "code",
      "source": [
        "# MaxPooling2D() : 맥스 풀링층을 추가하는  keras의 함수\n",
        "from tensorflow.keras.layers import MaxPooling2D\n",
        "\n",
        "model.add(MaxPooling2D(pool_size=(2,2)))\n",
        "# pool_size : 풀링 창 크기"
      ],
      "metadata": {
        "id": "bhR6R5uJzfdL"
      },
      "execution_count": null,
      "outputs": []
    },
    {
      "cell_type": "markdown",
      "source": [
        "드롭아웃 : 은닉층에 배치된 노드 중 일부를 임의로 꺼주는 것<br>\n",
        "랜덤하게 노드를 꺼주면 과적합 방지"
      ],
      "metadata": {
        "id": "5QZXBUdP_PCS"
      }
    },
    {
      "cell_type": "code",
      "source": [
        "# 25%의 노드 끄기\n",
        "from tensorflow.keras.layers import Dropout\n",
        "\n",
        "model.add(Dropout(0.25))"
      ],
      "metadata": {
        "id": "Vq-_QYCM-7nP"
      },
      "execution_count": null,
      "outputs": []
    },
    {
      "cell_type": "code",
      "source": [
        "# 2차원의 데이터를 다시 Dense층에 보내려면 1차원으로 변환해야 한다.\n",
        "# 이 때 사용하는 것이 flatten\n",
        "from tensorflow.keras.layers import Flatten\n",
        "\n",
        "model.add(Flatten())"
      ],
      "metadata": {
        "id": "7-ZpvCDa_hRd"
      },
      "execution_count": null,
      "outputs": []
    },
    {
      "cell_type": "code",
      "source": [
        "# 전체 코드\n",
        "from tensorflow.keras.models import Sequential\n",
        "from tensorflow.keras.layers import Dense, Dropout, Flatten, Conv2D, MaxPooling2D\n",
        "from tensorflow.keras.callbacks import EarlyStopping, ModelCheckpoint\n",
        "from tensorflow.keras.datasets import mnist\n",
        "from tensorflow.keras.utils import to_categorical\n",
        "\n",
        "import matplotlib.pyplot as plt\n",
        "import numpy as np\n",
        "\n",
        "(X_train, y_train), (X_test, y_test) = mnist.load_data()\n",
        "X_train = X_train.reshape(X_train.shape[0], 28, 28, 1).astype('float32') / 255\n",
        "X_test = X_test.reshape(X_test.shape[0], 28, 28, 1).astype('float32') / 255\n",
        "y_train = to_categorical(y_train)\n",
        "y_test = to_categorical(y_test)\n",
        "\n",
        "model = Sequential()\n",
        "model.add(Conv2D(32, kernel_size=(3,3), input_shape=(28,28,1), activation='relu'))\n",
        "model.add(Conv2D(64, (3,3), activation='relu'))\n",
        "model.add(MaxPooling2D(pool_size=(2,2)))\n",
        "model.add(Dropout(0.25))\n",
        "model.add(Flatten())\n",
        "model.add(Dense(128, activation='relu'))\n",
        "model.add(Dropout(0.5))\n",
        "model.add(Dense(10, activation='softmax'))\n",
        "\n",
        "model.compile(loss='categorical_crossentropy', optimizer='adam', metrics=['accuracy'])\n",
        "\n",
        "modelpath = './mnist_best.hdf5'\n",
        "checkpointer = ModelCheckpoint(filepath=modelpath, monitor='val_loss', verbose=1, save_best_only=True)\n",
        "early_stopping_callback = EarlyStopping(monitor='val_loss', patience=10)\n",
        "\n",
        "history = model.fit(X_train, y_train, validation_split=0.25, epochs=30, batch_size=200, verbose=0, callbacks=[checkpointer, early_stopping_callback])\n",
        "\n",
        "print(f'Testset Accuracy : {model.evaluate(X_test, y_test)[1]}')\n",
        "\n",
        "y_vloss = history.history['val_loss']\n",
        "y_loss = history.history['loss']\n",
        "\n",
        "x_len = np.arange(len(y_loss))\n",
        "plt.plot(x_len, y_vloss, marker='.', c='red', label='Testset loss')\n",
        "plt.plot(x_len, y_loss, marker='.', c='blue', label='Trainset loss')\n",
        "\n",
        "plt.legend(loc='upper right')\n",
        "plt.xlabel('epoch')\n",
        "plt.ylabel('loss')\n",
        "plt.show()"
      ],
      "metadata": {
        "colab": {
          "base_uri": "https://localhost:8080/",
          "height": 1000
        },
        "id": "2qp-T1Se_5J8",
        "outputId": "1a8e2a5c-7310-4b61-992b-d13057a5601d"
      },
      "execution_count": 35,
      "outputs": [
        {
          "output_type": "stream",
          "name": "stdout",
          "text": [
            "\n",
            "Epoch 1: val_loss improved from inf to 0.08746, saving model to ./mnist_best.hdf5\n",
            "\n",
            "Epoch 2: val_loss improved from 0.08746 to 0.06407, saving model to ./mnist_best.hdf5\n",
            "\n",
            "Epoch 3: val_loss improved from 0.06407 to 0.05314, saving model to ./mnist_best.hdf5\n",
            "\n",
            "Epoch 4: val_loss improved from 0.05314 to 0.04901, saving model to ./mnist_best.hdf5\n",
            "\n",
            "Epoch 5: val_loss improved from 0.04901 to 0.04389, saving model to ./mnist_best.hdf5\n",
            "\n",
            "Epoch 6: val_loss did not improve from 0.04389\n",
            "\n",
            "Epoch 7: val_loss did not improve from 0.04389\n",
            "\n",
            "Epoch 8: val_loss did not improve from 0.04389\n",
            "\n",
            "Epoch 9: val_loss did not improve from 0.04389\n",
            "\n",
            "Epoch 10: val_loss did not improve from 0.04389\n",
            "\n",
            "Epoch 11: val_loss improved from 0.04389 to 0.04130, saving model to ./mnist_best.hdf5\n",
            "\n",
            "Epoch 12: val_loss did not improve from 0.04130\n",
            "\n",
            "Epoch 13: val_loss did not improve from 0.04130\n",
            "\n",
            "Epoch 14: val_loss did not improve from 0.04130\n",
            "\n",
            "Epoch 15: val_loss did not improve from 0.04130\n",
            "\n",
            "Epoch 16: val_loss improved from 0.04130 to 0.04126, saving model to ./mnist_best.hdf5\n",
            "\n",
            "Epoch 17: val_loss did not improve from 0.04126\n",
            "\n",
            "Epoch 18: val_loss did not improve from 0.04126\n",
            "\n",
            "Epoch 19: val_loss did not improve from 0.04126\n",
            "\n",
            "Epoch 20: val_loss did not improve from 0.04126\n",
            "\n",
            "Epoch 21: val_loss did not improve from 0.04126\n",
            "\n",
            "Epoch 22: val_loss did not improve from 0.04126\n",
            "\n",
            "Epoch 23: val_loss did not improve from 0.04126\n",
            "\n",
            "Epoch 24: val_loss did not improve from 0.04126\n",
            "\n",
            "Epoch 25: val_loss did not improve from 0.04126\n",
            "\n",
            "Epoch 26: val_loss did not improve from 0.04126\n",
            "313/313 [==============================] - 8s 25ms/step - loss: 0.0349 - accuracy: 0.9920\n",
            "Testset Accuracy : 0.9919999837875366\n"
          ]
        },
        {
          "output_type": "display_data",
          "data": {
            "text/plain": [
              "<Figure size 640x480 with 1 Axes>"
            ],
            "image/png": "[encoded data removed]"
          },
          "metadata": {}
        }
      ]
    }
  ]
}